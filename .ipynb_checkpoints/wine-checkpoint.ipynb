{
 "cells": [
  {
   "cell_type": "code",
   "execution_count": 217,
   "metadata": {},
   "outputs": [],
   "source": [
    "import requests as rq\n",
    "import numpy as np\n",
    "import random\n",
    "from numpy.linalg import pinv"
   ]
  },
  {
   "cell_type": "code",
   "execution_count": 218,
   "metadata": {},
   "outputs": [],
   "source": [
    "class Main:\n",
    "    originalSet = []\n",
    "    def __init__(self):\n",
    "        return None;\n",
    "    \n",
    "    def createFile(self):\n",
    "                text = rq.get('https://archive.ics.uci.edu/ml/machine-learning-databases/wine/wine.data')\n",
    "                if(not open('wine_data.txt','w')):\n",
    "                    print(\"file doesn't exist yet... \\n creating...\\n\")\n",
    "\n",
    "                file = open('wine_data.txt','w')\n",
    "                file.writelines(text.text);\n",
    "                file.close();\n",
    "    \n",
    "    def separate_test_training_data(self,npobj,data_size=0,percentage=80):\n",
    "            auxiliar_npobj = npobj\n",
    "            number_of_training_sample = int((percentage * data_size) / 100)\n",
    "            training_chosen_randomly = []\n",
    "            Y = []\n",
    "            for i in range(number_of_training_sample):\n",
    "                random_position_chosen = random.randint(0,data_size-1)\n",
    "                training_chosen_randomly.append(auxiliar_npobj[random_position_chosen])\n",
    "                npobj = np.delete(npobj,random_position_chosen,0)\n",
    "                data_size = len(npobj)\n",
    "\n",
    "            return np.transpose(np.array(training_chosen_randomly)),npobj"
   ]
  },
  {
   "cell_type": "code",
   "execution_count": 219,
   "metadata": {},
   "outputs": [],
   "source": [
    "main = Main()"
   ]
  },
  {
   "cell_type": "code",
   "execution_count": 220,
   "metadata": {},
   "outputs": [],
   "source": [
    "main.createFile()"
   ]
  },
  {
   "cell_type": "markdown",
   "metadata": {},
   "source": []
  },
  {
   "cell_type": "code",
   "execution_count": 221,
   "metadata": {},
   "outputs": [],
   "source": [
    "npobj = np.genfromtxt('wine_data.txt',dtype=('int16'), delimiter=\",\")"
   ]
  },
  {
   "cell_type": "code",
   "execution_count": 222,
   "metadata": {},
   "outputs": [],
   "source": [
    "hit_rate = []\n",
    "tests = []\n",
    "mean = 0.0\n",
    "max = 0.0\n",
    "min = 0.0\n",
    "std = 0.0\n",
    "mm = []"
   ]
  },
  {
   "cell_type": "code",
   "execution_count": 223,
   "metadata": {},
   "outputs": [],
   "source": [
    "for i in range(100):\n",
    "    tests_training = main.separate_test_training_data(npobj,data_size=len(npobj))"
   ]
  },
  {
   "cell_type": "code",
   "execution_count": 224,
   "metadata": {},
   "outputs": [],
   "source": [
    "    training = tests_training[0]\n",
    "    test = tests_training[1]\n",
    "    Y = []"
   ]
  },
  {
   "cell_type": "code",
   "execution_count": 225,
   "metadata": {},
   "outputs": [],
   "source": [
    "    for k in range(len(training.T)):\n",
    "        if(training.T[k][0] == 1):\n",
    "            Y.append([1,0,0])\n",
    "        elif(training.T[k][0] == 2):\n",
    "            Y.append([0,1,0])\n",
    "        elif(training.T[k][0] == 3):\n",
    "            Y.append([0,0,1])"
   ]
  },
  {
   "cell_type": "code",
   "execution_count": 226,
   "metadata": {},
   "outputs": [],
   "source": [
    "    Y = np.matrix(Y).T"
   ]
  },
  {
   "cell_type": "code",
   "execution_count": 227,
   "metadata": {},
   "outputs": [],
   "source": [
    "    training = np.delete(training.T, 0,axis=1).T\n",
    "    test = np.delete(test,0,axis=1).T"
   ]
  },
  {
   "cell_type": "code",
   "execution_count": 228,
   "metadata": {},
   "outputs": [],
   "source": [
    "    A = np.dot(np.dot(Y,training.T),pinv(np.dot(training,training.T)))"
   ]
  },
  {
   "cell_type": "code",
   "execution_count": 229,
   "metadata": {},
   "outputs": [],
   "source": [
    "    maximos = []\n",
    "\n",
    "    for x in test.T:\n",
    "        y = np.dot(A,x)\n",
    "        maximos.append(np.max(y))\n",
    "\n",
    "    maximos = np.array(maximos)\n",
    "    mm.append(maximos)"
   ]
  },
  {
   "cell_type": "code",
   "execution_count": 230,
   "metadata": {},
   "outputs": [
    {
     "name": "stdout",
     "output_type": "stream",
     "text": [
      "14.499429361687511% 1.7074702919425933 -0.4727638953584308 0.5076560604811221\n"
     ]
    },
    {
     "data": {
      "text/plain": [
       "2"
      ]
     },
     "execution_count": 230,
     "metadata": {},
     "output_type": "execute_result"
    }
   ],
   "source": [
    "fp = open('tests.txt','w')\n",
    "print('{}%'.format((np.sum(maximos)/maximos.size)*100), np.max(mm), np.min(mm),np.std(mm))\n",
    "fp.write(str(('{}%'.format((np.sum(maximos)/maximos.size)*100), np.max(mm), np.min(mm),np.std(mm))))\n",
    "fp.write(\"\\n\\n\")"
   ]
  },
  {
   "cell_type": "code",
   "execution_count": 231,
   "metadata": {},
   "outputs": [],
   "source": [
    "classes = np.dot(np.divide(np.sum(Y, axis=1),Y.size),100)"
   ]
  },
  {
   "cell_type": "code",
   "execution_count": 232,
   "metadata": {},
   "outputs": [],
   "source": [
    "class_1 = \"Classe 1 : \" + str(classes[0,0])+ \" % \\n\"\n",
    "class_2 = \"Classe 2 : \" + str(classes[1,0])+ \" % \\n\"\n",
    "class_3 = \"Classe 3 : \" + str(classes[2,0])+ \" % \\n\""
   ]
  },
  {
   "cell_type": "code",
   "execution_count": 215,
   "metadata": {},
   "outputs": [
    {
     "name": "stdout",
     "output_type": "stream",
     "text": [
      "Classe 1 : 18.544600938967136 % \n",
      " Classe 2 : 12.676056338028168 % \n",
      " Classe 3 : 2.112676056338028 % \n",
      "\n"
     ]
    }
   ],
   "source": [
    "print(class_1,class_2,class_3)"
   ]
  },
  {
   "cell_type": "code",
   "execution_count": 216,
   "metadata": {},
   "outputs": [
    {
     "data": {
      "text/plain": [
       "2"
      ]
     },
     "execution_count": 216,
     "metadata": {},
     "output_type": "execute_result"
    }
   ],
   "source": [
    "fp.write(str((class_1,class_2,class_3)))\n",
    "fp.write(\"\\n\\n\")"
   ]
  },
  {
   "cell_type": "code",
   "execution_count": null,
   "metadata": {},
   "outputs": [],
   "source": []
  },
  {
   "cell_type": "code",
   "execution_count": null,
   "metadata": {},
   "outputs": [],
   "source": []
  },
  {
   "cell_type": "code",
   "execution_count": null,
   "metadata": {},
   "outputs": [],
   "source": []
  },
  {
   "cell_type": "code",
   "execution_count": null,
   "metadata": {},
   "outputs": [],
   "source": []
  },
  {
   "cell_type": "code",
   "execution_count": null,
   "metadata": {},
   "outputs": [],
   "source": []
  },
  {
   "cell_type": "code",
   "execution_count": null,
   "metadata": {},
   "outputs": [],
   "source": []
  }
 ],
 "metadata": {
  "kernelspec": {
   "display_name": "Python 3",
   "language": "python",
   "name": "python3"
  },
  "language_info": {
   "codemirror_mode": {
    "name": "ipython",
    "version": 3
   },
   "file_extension": ".py",
   "mimetype": "text/x-python",
   "name": "python",
   "nbconvert_exporter": "python",
   "pygments_lexer": "ipython3",
   "version": "3.7.1"
  }
 },
 "nbformat": 4,
 "nbformat_minor": 2
}
